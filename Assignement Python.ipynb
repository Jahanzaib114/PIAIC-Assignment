{
 "cells": [
  {
   "cell_type": "code",
   "execution_count": 1,
   "metadata": {},
   "outputs": [
    {
     "name": "stdout",
     "output_type": "stream",
     "text": [
      "Enter Name: Jahanzaib Ch\n",
      "Enter Quarter: Q1\n",
      "Enter Batch: 3\n",
      "Enter City: Islamabad\n",
      "Enter University: Bahria University \n",
      "\n",
      "Name: JAHANZAIB CH,\n",
      "Quater: Q1,\n",
      "Batch: 3,\n",
      "City: Islamabad,\n",
      "University: Bahria University \n",
      "\n"
     ]
    }
   ],
   "source": [
    "name=input(\"Enter Name: \")\n",
    "quater=input(\"Enter Quarter: \")\n",
    "batch=input(\"Enter Batch: \")\n",
    "city=input(\"Enter City: \")\n",
    "uni=input(\"Enter University: \")\n",
    "#print(name.upper())\n",
    "msg=\"\"\"\n",
    "Name: {},\n",
    "Quater: {},\n",
    "Batch: {},\n",
    "City: {},\n",
    "University: {}\n",
    "\"\"\"\n",
    "message=msg.format(name.upper(),quater,batch,city.title(),uni.title())\n",
    "print(message)"
   ]
  },
  {
   "cell_type": "code",
   "execution_count": 2,
   "metadata": {},
   "outputs": [
    {
     "name": "stdout",
     "output_type": "stream",
     "text": [
      "JAHANZAIB NAAZIR\n"
     ]
    }
   ],
   "source": [
    "name='Jahanzaib Naazir'\n",
    "print(name.upper())"
   ]
  },
  {
   "cell_type": "code",
   "execution_count": 3,
   "metadata": {},
   "outputs": [
    {
     "name": "stdout",
     "output_type": "stream",
     "text": [
      "False\n"
     ]
    }
   ],
   "source": [
    "name='Jahanzaib Naazir'\n",
    "print(name.isalpha())"
   ]
  },
  {
   "cell_type": "code",
   "execution_count": 4,
   "metadata": {},
   "outputs": [
    {
     "name": "stdout",
     "output_type": "stream",
     "text": [
      "jahanzaib ch\n"
     ]
    }
   ],
   "source": [
    "name='JAHANZAIB CH'\n",
    "print(name.lower())"
   ]
  },
  {
   "cell_type": "code",
   "execution_count": 5,
   "metadata": {},
   "outputs": [
    {
     "name": "stdout",
     "output_type": "stream",
     "text": [
      "16\n"
     ]
    }
   ],
   "source": [
    "name='Jahanzaib Naazir'\n",
    "print(len(name))"
   ]
  },
  {
   "cell_type": "code",
   "execution_count": null,
   "metadata": {},
   "outputs": [],
   "source": []
  }
 ],
 "metadata": {
  "kernelspec": {
   "display_name": "Python 3",
   "language": "python",
   "name": "python3"
  },
  "language_info": {
   "codemirror_mode": {
    "name": "ipython",
    "version": 3
   },
   "file_extension": ".py",
   "mimetype": "text/x-python",
   "name": "python",
   "nbconvert_exporter": "python",
   "pygments_lexer": "ipython3",
   "version": "3.7.3"
  }
 },
 "nbformat": 4,
 "nbformat_minor": 2
}
